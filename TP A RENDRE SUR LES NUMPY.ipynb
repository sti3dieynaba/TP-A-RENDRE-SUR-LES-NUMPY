{
 "cells": [
  {
   "cell_type": "markdown",
   "id": "90e1e6ce",
   "metadata": {},
   "source": [
    "# 6. À l'aide des tableaux créés dans la question 3 ci-dessus, écrivez des commandes\n",
    "NumPy pour ce qui suit :\n",
    "a. Trouver la transposée de \"ones\" et \"myarray2\".\n",
    "b. Trier leb. Trier le tableau \"vowels\" en ordre inverse. tableau \"vowels\" en ordre inverse.\n",
    "c.Trier le tableau \"myarray1\" de manière à placer la plus petite valeur de la\n",
    "colonne dans la première ligne, et ains de suite."
   ]
  },
  {
   "cell_type": "markdown",
   "id": "ce6d5644",
   "metadata": {},
   "source": [
    "# A trouver le transposee de \"ones\" et \"myarray2\""
   ]
  },
  {
   "cell_type": "code",
   "execution_count": 3,
   "id": "9f880a5b",
   "metadata": {},
   "outputs": [
    {
     "name": "stdout",
     "output_type": "stream",
     "text": [
      "Transposee de ones :\n",
      " [[1. 1. 1.]\n",
      " [1. 1. 1.]]\n",
      "Transposee de myarray2 :\n",
      " [[  2.7   0.   10.6]\n",
      " [ -2.    3.4   0. ]\n",
      " [-19.   99.9  13. ]]\n"
     ]
    }
   ],
   "source": [
    "import numpy as np\n",
    "#creer un tableau ones\n",
    "ones = np.ones((3, 2))\n",
    "#creer un tableau myarray2 \n",
    "myarray2 = np.array([[2.7,-2,-19],[0,3.4,99.9],[10.6,0,13]])\n",
    "#transposserles tableaux\n",
    "ones_transposed = np.transpose(ones)\n",
    "myarray2_transposed = np.transpose(myarray2)\n",
    "print(\"Transposee de ones :\\n\", ones_transposed)\n",
    "print(\"Transposee de myarray2 :\\n\", myarray2_transposed)"
   ]
  },
  {
   "cell_type": "markdown",
   "id": "f78c545e",
   "metadata": {},
   "source": [
    "# b. Trier le tableau \"vowels\" en ordre inverse."
   ]
  },
  {
   "cell_type": "code",
   "execution_count": 5,
   "id": "2776015a",
   "metadata": {},
   "outputs": [
    {
     "name": "stdout",
     "output_type": "stream",
     "text": [
      "Tableau vowels inverse : ['u', 'o', 'i', 'e', 'a']\n",
      "Tableau vowels trie dans l' ordre inverse : ['u', 'o', 'i', 'e', 'a']\n"
     ]
    }
   ],
   "source": [
    "#Definition du tableau vowels\n",
    "vowels = ['a','e','i','o','u']\n",
    "#option 1: Inverse l'ordre des elemsnts dans le tableau\n",
    "vowels.reverse()\n",
    "print(\"Tableau vowels inverse :\", vowels)\n",
    "#option 2: Trier le tableau dans l'ordre decroissant \n",
    "vowels_sorted_reverse = sorted(vowels , reverse=True)\n",
    "print(\"Tableau vowels trie dans l' ordre inverse :\", vowels_sorted_reverse)"
   ]
  },
  {
   "cell_type": "markdown",
   "id": "9472a557",
   "metadata": {},
   "source": [
    "# c.Trier le tableau \"myarray1\" de manière à placer la plus petite valeur de la\n",
    "colonne dans la première ligne, et ainsi de suite."
   ]
  },
  {
   "cell_type": "code",
   "execution_count": 8,
   "id": "6a56d319",
   "metadata": {},
   "outputs": [
    {
     "name": "stdout",
     "output_type": "stream",
     "text": [
      "Tableau myarray1 trie avec la plus petite valeure de chaque colonne dans la premiere :\n",
      " [[  0.    3.4  99.9]\n",
      " [  2.7  -2.  -19. ]\n",
      " [ 10.6   0.   13. ]]\n"
     ]
    }
   ],
   "source": [
    "import numpy as np\n",
    "#Definition du tableau myarray1\n",
    "myarray1 = np.array([[2.7,-2,-19],[0,3.4,99.9],[10.6,0,13]])\n",
    "#obtenir les indices des valeures triees pour chaque colonne\n",
    "sorted_indices = np.argsort(myarray1, axis=0)\n",
    "#Reorganiser les lignes des tableaux en fonction des indices tries\n",
    "sorted_myarray1 = myarray1[sorted_indices[:, 0], :]\n",
    "print(\"Tableau myarray1 trie avec la plus petite valeure de chaque colonne dans la premiere :\\n\",\n",
    "    sorted_myarray1)"
   ]
  },
  {
   "cell_type": "markdown",
   "id": "56d68a94",
   "metadata": {},
   "source": [
    "# 7. À l'aide des tableaux créés dans la question 4 ci-dessus, écrivez des commandes\n",
    "NumPy pour ce qui suit :\n",
    "a. Utilisez numpy.split() pour diviser le tableau \"myarray2\" en 5 tableaux.\n",
    "Stockez vos tableaux résultants dans \"myarray2A\", \"myarray2B\",\n",
    "\"myarray2C\", \"myarray2D\" et \"myarray2E\". Imprimez les tableaux\n",
    "\"myarray2A\", \"myarray2B\", \"myarray2C\", \"myarray2D\" et \"myarray2E\".\n",
    "b. Divisez le tableau \"zeros\" aux indices 2, 5, 7, 8 et stockez les tableaux\n",
    "résultants dans \"zerosA\", \"zerosB\", \"zerosC\" et \"zerosD\". Imprimez-les.\n",
    "c. Concaténer les tableaux \"myarray2A\", \"myarray2B\" et \"myarray2C\" en un\n",
    "tableau ayant 3 lignes et 3 colonnes"
   ]
  },
  {
   "cell_type": "markdown",
   "id": "837084b4",
   "metadata": {},
   "source": [
    "# a. Utilisez numpy.split() pour diviser le tableau \"myarray2\" en 5 tableaux.\n",
    "Stockez vos tableaux résultants dans \"myarray2A\", \"myarray2B\",\n",
    "\"myarray2C\", \"myarray2D\" et \"myarray2E\". Imprimez les tableaux\n",
    "\"myarray2A\", \"myarray2B\", \"myarray2C\", \"myarray2D\" et \"myarray2E\"."
   ]
  },
  {
   "cell_type": "code",
   "execution_count": 23,
   "id": "83621a7b",
   "metadata": {
    "collapsed": true
   },
   "outputs": [
    {
     "ename": "NameError",
     "evalue": "name 'myarray2' is not defined",
     "output_type": "error",
     "traceback": [
      "\u001b[1;31m---------------------------------------------------------------------------\u001b[0m",
      "\u001b[1;31mNameError\u001b[0m                                 Traceback (most recent call last)",
      "\u001b[1;32m~\\AppData\\Local\\Temp\\ipykernel_8476\\2865912126.py\u001b[0m in \u001b[0;36m<module>\u001b[1;34m\u001b[0m\n\u001b[0;32m      1\u001b[0m \u001b[1;32mimport\u001b[0m \u001b[0mnumpy\u001b[0m \u001b[1;32mas\u001b[0m \u001b[0mnp\u001b[0m\u001b[1;33m\u001b[0m\u001b[1;33m\u001b[0m\u001b[0m\n\u001b[0;32m      2\u001b[0m \u001b[1;31m#Diviser myarray2 en 5 parties\u001b[0m\u001b[1;33m\u001b[0m\u001b[1;33m\u001b[0m\u001b[0m\n\u001b[1;32m----> 3\u001b[1;33m \u001b[0mmyarray2A\u001b[0m\u001b[1;33m,\u001b[0m \u001b[0mmyarray2B\u001b[0m\u001b[1;33m,\u001b[0m \u001b[0mmyarray2C\u001b[0m\u001b[1;33m,\u001b[0m \u001b[0mmyarray2D\u001b[0m\u001b[1;33m,\u001b[0m \u001b[0mmyarray2E\u001b[0m \u001b[1;33m=\u001b[0m \u001b[0mnp\u001b[0m\u001b[1;33m.\u001b[0m\u001b[0msplit\u001b[0m\u001b[1;33m(\u001b[0m\u001b[0mmyarray2\u001b[0m\u001b[1;33m,\u001b[0m \u001b[1;36m5\u001b[0m\u001b[1;33m)\u001b[0m\u001b[1;33m\u001b[0m\u001b[1;33m\u001b[0m\u001b[0m\n\u001b[0m\u001b[0;32m      4\u001b[0m \u001b[1;31m#Imprimer les tableaux resultants\u001b[0m\u001b[1;33m\u001b[0m\u001b[1;33m\u001b[0m\u001b[0m\n\u001b[0;32m      5\u001b[0m \u001b[0mprint\u001b[0m\u001b[1;33m(\u001b[0m\u001b[1;34m\"myarray2A:\"\u001b[0m\u001b[1;33m,\u001b[0m \u001b[0mmyarray2A\u001b[0m\u001b[1;33m)\u001b[0m\u001b[1;33m\u001b[0m\u001b[1;33m\u001b[0m\u001b[0m\n",
      "\u001b[1;31mNameError\u001b[0m: name 'myarray2' is not defined"
     ]
    }
   ],
   "source": [
    "import numpy as np\n",
    "#Diviser myarray2 en 5 parties\n",
    "myarray2A, myarray2B, myarray2C, myarray2D, myarray2E = np.split(myarray2, 5)\n",
    "#Imprimer les tableaux resultants\n",
    "print(\"myarray2A:\", myarray2A)\n",
    "print(\"myarray2B:\", myarray2B)\n",
    "print(\"myarray2C:\", myarray2C)\n",
    "print(\"myarray2D:\", myarray2D)\n",
    "print(\"myarray2E:\", myarray2E)"
   ]
  },
  {
   "cell_type": "markdown",
   "id": "2e8c773f",
   "metadata": {},
   "source": [
    "# b. Divisez le tableau \"zeros\" aux indices 2, 5, 7, 8 et stockez les tableaux\n",
    "résultants dans \"zerosA\", \"zerosB\", \"zerosC\" et \"zerosD\". Imprimez-les."
   ]
  },
  {
   "cell_type": "code",
   "execution_count": 22,
   "id": "ffa738c7",
   "metadata": {},
   "outputs": [
    {
     "name": "stdout",
     "output_type": "stream",
     "text": [
      "zerosA : [0. 0. 0.]\n",
      "zerosB : [0. 0. 0.]\n",
      "zerosC : [0. 0.]\n",
      "zerosD : [0.]\n"
     ]
    }
   ],
   "source": [
    "import numpy as np\n",
    "#creer le tableau zeros \n",
    "zeros = np.zeros(10)\n",
    "#Diviser zeros aux indices 2, 5, 7, 8\n",
    "zerosA = zeros[:2+1]\n",
    "zerosB = zeros[3:5+1]\n",
    "zerosC = zeros[6:7+1]\n",
    "zerosD = zeros[9:8:-1]\n",
    "#Imprimer les tanleaux resultatants\n",
    "print(\"zerosA :\", zerosA)\n",
    "print(\"zerosB :\", zerosB)\n",
    "print(\"zerosC :\", zerosC)\n",
    "print(\"zerosD :\", zerosD)"
   ]
  },
  {
   "cell_type": "markdown",
   "id": "14983c09",
   "metadata": {},
   "source": [
    "# c. Concaténer les tableaux \"myarray2A\", \"myarray2B\" et \"myarray2C\" en un\n",
    "tableau ayant 3 lignes et 3 colonnes"
   ]
  },
  {
   "cell_type": "code",
   "execution_count": 21,
   "id": "0579d255",
   "metadata": {
    "collapsed": true
   },
   "outputs": [
    {
     "ename": "AttributeError",
     "evalue": "module 'numpy' has no attribute 'concatener'",
     "output_type": "error",
     "traceback": [
      "\u001b[1;31m---------------------------------------------------------------------------\u001b[0m",
      "\u001b[1;31mAttributeError\u001b[0m                            Traceback (most recent call last)",
      "\u001b[1;32m~\\AppData\\Local\\Temp\\ipykernel_8476\\2267815104.py\u001b[0m in \u001b[0;36m<module>\u001b[1;34m\u001b[0m\n\u001b[0;32m      1\u001b[0m \u001b[1;32mimport\u001b[0m \u001b[0mnumpy\u001b[0m \u001b[1;32mas\u001b[0m \u001b[0mnp\u001b[0m\u001b[1;33m\u001b[0m\u001b[1;33m\u001b[0m\u001b[0m\n\u001b[0;32m      2\u001b[0m \u001b[1;31m# Concatener des tableaux\u001b[0m\u001b[1;33m\u001b[0m\u001b[1;33m\u001b[0m\u001b[0m\n\u001b[1;32m----> 3\u001b[1;33m \u001b[0mconcatener_array\u001b[0m \u001b[1;33m=\u001b[0m \u001b[0mnp\u001b[0m\u001b[1;33m.\u001b[0m\u001b[0mconcatener\u001b[0m\u001b[1;33m(\u001b[0m\u001b[1;33m(\u001b[0m\u001b[0mmyarray2A\u001b[0m\u001b[1;33m,\u001b[0m \u001b[0mmyarray2B\u001b[0m\u001b[1;33m,\u001b[0m \u001b[0mmyarray2C\u001b[0m\u001b[1;33m)\u001b[0m\u001b[1;33m,\u001b[0m \u001b[0maxis\u001b[0m\u001b[1;33m=\u001b[0m\u001b[1;36m1\u001b[0m\u001b[1;33m)\u001b[0m\u001b[1;33m\u001b[0m\u001b[1;33m\u001b[0m\u001b[0m\n\u001b[0m\u001b[0;32m      4\u001b[0m \u001b[1;31m# Redimensionnement le tableau concatener en 3 ligne et 3 colonnes\u001b[0m\u001b[1;33m\u001b[0m\u001b[1;33m\u001b[0m\u001b[0m\n\u001b[0;32m      5\u001b[0m \u001b[0mreshape_array\u001b[0m \u001b[1;33m=\u001b[0m \u001b[0mnp\u001b[0m\u001b[1;33m.\u001b[0m\u001b[0mreshape\u001b[0m\u001b[1;33m(\u001b[0m\u001b[0mconcatener_array\u001b[0m\u001b[1;33m,\u001b[0m\u001b[1;33m(\u001b[0m\u001b[1;36m3\u001b[0m\u001b[1;33m,\u001b[0m \u001b[1;36m3\u001b[0m\u001b[1;33m)\u001b[0m\u001b[1;33m)\u001b[0m\u001b[1;33m\u001b[0m\u001b[1;33m\u001b[0m\u001b[0m\n",
      "\u001b[1;32m~\\anaconda3\\lib\\site-packages\\numpy\\__init__.py\u001b[0m in \u001b[0;36m__getattr__\u001b[1;34m(attr)\u001b[0m\n\u001b[0;32m    311\u001b[0m                 \u001b[1;32mreturn\u001b[0m \u001b[0mTester\u001b[0m\u001b[1;33m\u001b[0m\u001b[1;33m\u001b[0m\u001b[0m\n\u001b[0;32m    312\u001b[0m \u001b[1;33m\u001b[0m\u001b[0m\n\u001b[1;32m--> 313\u001b[1;33m             raise AttributeError(\"module {!r} has no attribute \"\n\u001b[0m\u001b[0;32m    314\u001b[0m                                  \"{!r}\".format(__name__, attr))\n\u001b[0;32m    315\u001b[0m \u001b[1;33m\u001b[0m\u001b[0m\n",
      "\u001b[1;31mAttributeError\u001b[0m: module 'numpy' has no attribute 'concatener'"
     ]
    }
   ],
   "source": [
    "import numpy as np\n",
    "# Concatener des tableaux\n",
    "concatener_array = np.concatener((myarray2A, myarray2B, myarray2C), axis=1)\n",
    "# Redimensionnement le tableau concatener en 3 ligne et 3 colonnes\n",
    "reshape_array = np.reshape(concatener_array,(3, 3))\n",
    "print(reshape_array)\n"
   ]
  },
  {
   "cell_type": "markdown",
   "id": "9db8b9c3",
   "metadata": {},
   "source": [
    "# 8. Créez un tableau 2-D appelé \"myarray4\" en utilisant arange() ayant 14 lignes et 3\n",
    "colonnes avec une valeur de départ de -1, un pas de 0.25. Divisez ce tableau en 3\n",
    "parties égales et imprimez le résultat."
   ]
  },
  {
   "cell_type": "code",
   "execution_count": 7,
   "id": "9bf22e0e",
   "metadata": {},
   "outputs": [
    {
     "name": "stdout",
     "output_type": "stream",
     "text": [
      "Partie 1 :\n",
      " [[-1.   -0.75 -0.5 ]\n",
      " [-0.25  0.    0.25]\n",
      " [ 0.5   0.75  1.  ]\n",
      " [ 1.25  1.5   1.75]]\n",
      "Partie 2 :\n",
      " [[2.   2.25 2.5 ]\n",
      " [2.75 3.   3.25]\n",
      " [3.5  3.75 4.  ]\n",
      " [4.25 4.5  4.75]]\n",
      "Partie 3 :n\n",
      " [[5.   5.25 5.5 ]\n",
      " [5.75 6.   6.25]\n",
      " [6.5  6.75 7.  ]\n",
      " [7.25 7.5  7.75]\n",
      " [8.   8.25 8.5 ]\n",
      " [8.75 9.   9.25]]\n"
     ]
    }
   ],
   "source": [
    "import numpy as np\n",
    "#creer le tableau 2D avec arange()\n",
    "myarray4 = np.arange(-1, 14*3*0.25-1,0.25).reshape((14, 3))\n",
    "#Diviser le tableau en 3 parties egales\n",
    "part_size = myarray4.shape[0] // 3\n",
    "part1 = myarray4[:part_size]\n",
    "part2 = myarray4[part_size:2*part_size]\n",
    "part3 = myarray4[2*part_size:]\n",
    "#Imprimer les resultats\n",
    "print(\"Partie 1 :\\n\", part1)\n",
    "print(\"Partie 2 :\\n\", part2)\n",
    "print(\"Partie 3 :n\\n\", part3)"
   ]
  },
  {
   "cell_type": "markdown",
   "id": "9139cfb2",
   "metadata": {},
   "source": [
    "# 9. À l'aide du \"myarray4\" créé dans les questions précédentes, écrivez des commandes\n",
    "pour ce qui suit :\n",
    "a. Trouver la somme de tous les éléments.\n",
    "b. Trouver la somme de tous les éléments par ligne"
   ]
  },
  {
   "cell_type": "code",
   "execution_count": 8,
   "id": "338c842d",
   "metadata": {},
   "outputs": [
    {
     "name": "stdout",
     "output_type": "stream",
     "text": [
      "La somme de tous les elements dans myarray4 est : [54.25 57.75 61.25]\n"
     ]
    }
   ],
   "source": [
    "# Somme de tous les elements de myarray4\n",
    "somme = sum(myarray4)\n",
    "print(\"La somme de tous les elements dans myarray4 est :\",somme)"
   ]
  },
  {
   "cell_type": "code",
   "execution_count": 9,
   "id": "ed4aadea",
   "metadata": {},
   "outputs": [
    {
     "name": "stdout",
     "output_type": "stream",
     "text": [
      "La somme des elements dans la ligne est : 27.0\n"
     ]
    }
   ],
   "source": [
    "#somme des elements par ligne dand myarray4\n",
    "for ligne in myarray4:\n",
    "    somme_ligne = sum(ligne)\n",
    "print(\"La somme des elements dans la ligne est :\", somme_ligne)"
   ]
  },
  {
   "cell_type": "code",
   "execution_count": null,
   "id": "2d7b5c74",
   "metadata": {},
   "outputs": [],
   "source": []
  }
 ],
 "metadata": {
  "kernelspec": {
   "display_name": "Python 3 (ipykernel)",
   "language": "python",
   "name": "python3"
  },
  "language_info": {
   "codemirror_mode": {
    "name": "ipython",
    "version": 3
   },
   "file_extension": ".py",
   "mimetype": "text/x-python",
   "name": "python",
   "nbconvert_exporter": "python",
   "pygments_lexer": "ipython3",
   "version": "3.9.13"
  }
 },
 "nbformat": 4,
 "nbformat_minor": 5
}
